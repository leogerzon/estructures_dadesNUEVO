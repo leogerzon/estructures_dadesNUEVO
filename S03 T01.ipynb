{
 "cells": [
  {
   "cell_type": "markdown",
   "id": "3a0e8a41-c46e-4c67-b406-382cb2b57330",
   "metadata": {},
   "source": [
    "# S03 T01: Estructura de dades"
   ]
  },
  {
   "cell_type": "markdown",
   "id": "6500abd0-7654-4fdd-97b0-894724ba1e04",
   "metadata": {},
   "source": [
    "### Exercici 1"
   ]
  },
  {
   "cell_type": "markdown",
   "id": "22f3bc83-de6f-4571-b112-49f25591786d",
   "metadata": {},
   "source": [
    "##### Lista que agrupa los meses del año en trimestres"
   ]
  },
  {
   "cell_type": "code",
   "execution_count": 159,
   "id": "4be3e91c-e792-45e2-aa17-6fabbd3abbe0",
   "metadata": {},
   "outputs": [],
   "source": [
    "mesesdelaño = [[\"enero\", \"febrero\", \"marzo\"],[\"abril\", \"mayo\", \"junio\"],\n",
    "[\"julio\", \"agosto\", \"septiembre\"],[\"octubre\", \"noviembre\", \"diciembre\"]]"
   ]
  },
  {
   "cell_type": "markdown",
   "id": "cf1a36ba-87ba-4b48-9e55-789d5260763e",
   "metadata": {},
   "source": [
    "### Exercici 2"
   ]
  },
  {
   "cell_type": "markdown",
   "id": "fb297c49-5ea1-406a-8952-fd275a754268",
   "metadata": {},
   "source": [
    "#### Acceder al segundo mes del primer trimestre"
   ]
  },
  {
   "cell_type": "code",
   "execution_count": 169,
   "id": "d07786f2-f5a0-4051-8d96-4dec0adbc5d4",
   "metadata": {},
   "outputs": [
    {
     "data": {
      "text/plain": [
       "'febrero'"
      ]
     },
     "execution_count": 169,
     "metadata": {},
     "output_type": "execute_result"
    }
   ],
   "source": [
    "mesesdelaño[0][1]"
   ]
  },
  {
   "cell_type": "markdown",
   "id": "95d26c36-484e-4a0e-a1df-1285bde6a8b9",
   "metadata": {},
   "source": [
    "#### Acceder a los meses del primer trimestre"
   ]
  },
  {
   "cell_type": "code",
   "execution_count": 161,
   "id": "5b4059f3-4e7d-4a11-8cc1-d4df1c0c4b02",
   "metadata": {},
   "outputs": [
    {
     "data": {
      "text/plain": [
       "['enero', 'febrero', 'marzo']"
      ]
     },
     "execution_count": 161,
     "metadata": {},
     "output_type": "execute_result"
    }
   ],
   "source": [
    "mesesdelaño[0]"
   ]
  },
  {
   "cell_type": "markdown",
   "id": "ab14b453-3750-4621-a926-76b927db7915",
   "metadata": {},
   "source": [
    "#### Acceder a septiembre y octubre"
   ]
  },
  {
   "cell_type": "code",
   "execution_count": 162,
   "id": "2a24a1bd-8e00-4902-a09f-13eb65bc0f49",
   "metadata": {},
   "outputs": [
    {
     "data": {
      "text/plain": [
       "'septiembre'"
      ]
     },
     "execution_count": 162,
     "metadata": {},
     "output_type": "execute_result"
    }
   ],
   "source": [
    "mesesdelaño[2][2]"
   ]
  },
  {
   "cell_type": "code",
   "execution_count": 163,
   "id": "e7918074-cb16-4fc7-89e2-64111db2bc6d",
   "metadata": {},
   "outputs": [
    {
     "data": {
      "text/plain": [
       "'octubre'"
      ]
     },
     "execution_count": 163,
     "metadata": {},
     "output_type": "execute_result"
    }
   ],
   "source": [
    "mesesdelaño[3][0]"
   ]
  },
  {
   "cell_type": "markdown",
   "id": "321b0bd2-6066-4150-832e-2f18b7d3de9d",
   "metadata": {},
   "source": [
    "### Exercici 3"
   ]
  },
  {
   "cell_type": "markdown",
   "id": "41604923-f112-40ed-aa99-789e1df94410",
   "metadata": {},
   "source": [
    "#### Crear lista con números desordenados"
   ]
  },
  {
   "cell_type": "code",
   "execution_count": 170,
   "id": "989218eb-790a-4bba-a8c4-ef44e3b836a2",
   "metadata": {},
   "outputs": [],
   "source": [
    "numeros = [3, 5, 9, 2, 15, 4, 19, 345, 201, 15, 8, 1983, 4]"
   ]
  },
  {
   "cell_type": "markdown",
   "id": "4b3451a7-a106-4d81-bb7e-bc18a4b94c4f",
   "metadata": {},
   "source": [
    "#### ¿Cuántos números tiene?"
   ]
  },
  {
   "cell_type": "code",
   "execution_count": 165,
   "id": "c181d491-40f5-405c-a8ef-25931b98d90a",
   "metadata": {},
   "outputs": [
    {
     "name": "stdout",
     "output_type": "stream",
     "text": [
      "13\n"
     ]
    }
   ],
   "source": [
    "print(len(numeros))"
   ]
  },
  {
   "cell_type": "markdown",
   "id": "bbc64ab1-6c58-45d9-82ab-7f9c15679eb3",
   "metadata": {},
   "source": [
    "La lista tiene 13 números"
   ]
  },
  {
   "cell_type": "markdown",
   "id": "a30a04ae-9e8b-4dfd-bb96-d114045f2a7b",
   "metadata": {},
   "source": [
    "#### ¿Cuántas veces aparece el número 3?"
   ]
  },
  {
   "cell_type": "code",
   "execution_count": 166,
   "id": "0219489c-0a83-4762-a823-a7bab9f93662",
   "metadata": {},
   "outputs": [
    {
     "data": {
      "text/plain": [
       "1"
      ]
     },
     "execution_count": 166,
     "metadata": {},
     "output_type": "execute_result"
    }
   ],
   "source": [
    "numeros.count(3)"
   ]
  },
  {
   "cell_type": "markdown",
   "id": "82c1aadc-f807-41cb-8dcf-0e4c9a8d11d9",
   "metadata": {},
   "source": [
    "El número 3 aparece una vez"
   ]
  },
  {
   "cell_type": "markdown",
   "id": "3da24212-03da-4896-929e-30fc3cdcc997",
   "metadata": {},
   "source": [
    "#### ¿Cuántas veces aparecen los números 3 y 4?"
   ]
  },
  {
   "cell_type": "code",
   "execution_count": 171,
   "id": "3c0c2d5a-3228-4ea5-bb3b-a72663978b9d",
   "metadata": {},
   "outputs": [
    {
     "data": {
      "text/plain": [
       "Counter({3: 1,\n",
       "         5: 1,\n",
       "         9: 1,\n",
       "         2: 1,\n",
       "         15: 2,\n",
       "         4: 2,\n",
       "         19: 1,\n",
       "         345: 1,\n",
       "         201: 1,\n",
       "         8: 1,\n",
       "         1983: 1})"
      ]
     },
     "execution_count": 171,
     "metadata": {},
     "output_type": "execute_result"
    }
   ],
   "source": [
    "import collections\n",
    "from collections import Counter\n",
    "Counter(numeros)"
   ]
  },
  {
   "cell_type": "markdown",
   "id": "ef92ac92-2035-4a89-9bff-9776f86f3328",
   "metadata": {},
   "source": [
    "El número 3 aparece una vez y el 4 dos veces"
   ]
  },
  {
   "cell_type": "markdown",
   "id": "319325cd-6dd1-435e-b298-97118260659e",
   "metadata": {},
   "source": [
    "#### ¿Cuál es el número más grande de la lista?"
   ]
  },
  {
   "cell_type": "code",
   "execution_count": 172,
   "id": "bfafbf25-d3a6-404c-9ef4-b0832e604dcc",
   "metadata": {},
   "outputs": [
    {
     "name": "stdout",
     "output_type": "stream",
     "text": [
      "1983\n"
     ]
    }
   ],
   "source": [
    "numeros.sort(reverse = True)\n",
    "print(numeros[0])"
   ]
  },
  {
   "cell_type": "markdown",
   "id": "e19fa56a-f459-4561-b240-a11400e549bc",
   "metadata": {},
   "source": [
    "El número más grande de la lista es el 1983"
   ]
  },
  {
   "cell_type": "markdown",
   "id": "03201f47-94ad-49e8-bf86-d8c3014da287",
   "metadata": {},
   "source": [
    "#### ¿Cuáles son los tres números más pequeños de la lista?"
   ]
  },
  {
   "cell_type": "code",
   "execution_count": 173,
   "id": "cede270e-840a-4b96-a19e-8ccba0aa51cd",
   "metadata": {},
   "outputs": [
    {
     "name": "stdout",
     "output_type": "stream",
     "text": [
      "[2, 3, 4]\n"
     ]
    }
   ],
   "source": [
    "numeros.sort()\n",
    "print(numeros[0:3])"
   ]
  },
  {
   "cell_type": "markdown",
   "id": "05e62162-fbc8-4398-8bbf-720d46abc38d",
   "metadata": {},
   "source": [
    "Los tres números más pequeños de la lista son el 2, el 3 y el 4"
   ]
  },
  {
   "cell_type": "markdown",
   "id": "9a47c67a-5a65-4ea6-b8d6-635aeb9585e4",
   "metadata": {},
   "source": [
    "#### ¿Cuál es el rango de la lista?"
   ]
  },
  {
   "cell_type": "code",
   "execution_count": 174,
   "id": "2b808dfc-656c-46e6-bfd2-85747ed9f131",
   "metadata": {},
   "outputs": [
    {
     "name": "stdout",
     "output_type": "stream",
     "text": [
      "[2, 3, 4, 4, 5, 8, 9, 15, 15, 19, 201, 345, 1983]\n"
     ]
    }
   ],
   "source": [
    "range(1)\n",
    "print(numeros)"
   ]
  },
  {
   "cell_type": "markdown",
   "id": "e61ab3c9-044c-4da6-b6d7-2703bea5a88f",
   "metadata": {},
   "source": [
    "### Exercici 4"
   ]
  },
  {
   "cell_type": "markdown",
   "id": "1fdde10e-3b81-411b-bee5-1e143556b89f",
   "metadata": {},
   "source": [
    "#### Lista de la compra"
   ]
  },
  {
   "cell_type": "code",
   "execution_count": 175,
   "id": "23019983-aaf8-47d0-a07b-18cd69495534",
   "metadata": {},
   "outputs": [],
   "source": [
    "compra = { \"Pomes\" : {\"Cantidad\" : 5, \"precio\" : 0.42}, \n",
    "          \"Peres\" : {\"Cantidad\" : 3, \"precio\" : 0.66} }"
   ]
  },
  {
   "cell_type": "markdown",
   "id": "8b11f3cb-5525-4d2f-b44d-97c4c75ab79f",
   "metadata": {},
   "source": [
    "#### Agregar una fruta a la lista"
   ]
  },
  {
   "cell_type": "code",
   "execution_count": 176,
   "id": "9e66ef55-0b5b-403b-a87c-33afe6a333b1",
   "metadata": {},
   "outputs": [],
   "source": [
    "compra = { \"Pomes\" : {\"Cantidad\": 5, \"Precio\": 0.42}, \n",
    "          \"Peres\" : {\"Cantidad\": 3, \"Precio\": 0.66} }\n",
    "compra.update({\"Melocoton\" : {\"Cantidad\": 3, \"Precio\": 0.50}})"
   ]
  },
  {
   "cell_type": "markdown",
   "id": "e394a877-fedb-4594-b8fd-97d9bca96e74",
   "metadata": {},
   "source": [
    "#### ¿Cuánto han costado las peras en total?"
   ]
  },
  {
   "cell_type": "code",
   "execution_count": 177,
   "id": "e95ebbea-5547-4f28-a427-6be91e30045e",
   "metadata": {},
   "outputs": [
    {
     "name": "stdout",
     "output_type": "stream",
     "text": [
      "{'Cantidad': 3, 'Precio': 0.66}\n"
     ]
    }
   ],
   "source": [
    "print(compra.get('Peres'))"
   ]
  },
  {
   "cell_type": "code",
   "execution_count": 178,
   "id": "5fbdf251-e010-493e-ac00-e0c810ddc1e0",
   "metadata": {},
   "outputs": [
    {
     "name": "stdout",
     "output_type": "stream",
     "text": [
      "1.98\n"
     ]
    }
   ],
   "source": [
    "print(3*0.66) "
   ]
  },
  {
   "cell_type": "markdown",
   "id": "8845783e-f2a0-42a9-81b9-e3eaa15332dc",
   "metadata": {},
   "source": [
    "Las peras en total han costado €1.98"
   ]
  },
  {
   "cell_type": "markdown",
   "id": "65b74b30-1fa5-408b-8d48-33ef79486de6",
   "metadata": {},
   "source": [
    "#### ¿Cuántas frutas hemos comprado en total?"
   ]
  },
  {
   "cell_type": "code",
   "execution_count": 185,
   "id": "dacad4ff-fdff-4ea0-ab38-c24d34ced12d",
   "metadata": {},
   "outputs": [
    {
     "name": "stdout",
     "output_type": "stream",
     "text": [
      "{'Cantidad': 5, 'Precio': 0.42}\n",
      "{'Cantidad': 3, 'Precio': 0.66}\n",
      "{'Cantidad': 3, 'Precio': 0.5}\n"
     ]
    }
   ],
   "source": [
    "for x in compra:\n",
    "    print(compra[x])"
   ]
  },
  {
   "cell_type": "code",
   "execution_count": 186,
   "id": "e775f149-50aa-495b-b0e4-732d411a5a09",
   "metadata": {},
   "outputs": [
    {
     "name": "stdout",
     "output_type": "stream",
     "text": [
      "11\n"
     ]
    }
   ],
   "source": [
    "print(5+3+3)"
   ]
  },
  {
   "cell_type": "markdown",
   "id": "5267446a-c7eb-43ce-8fc9-9f61ac5e8eeb",
   "metadata": {},
   "source": [
    "En total hemos comprado 11 frutas"
   ]
  },
  {
   "cell_type": "markdown",
   "id": "23dd7115-e2fa-426b-ae57-fdb5c22478c7",
   "metadata": {},
   "source": [
    "#### ¿Cuál es la fruta más cara?"
   ]
  },
  {
   "cell_type": "code",
   "execution_count": 181,
   "id": "d569e1ff-f7cb-4992-92d7-4c1294fd62c4",
   "metadata": {},
   "outputs": [
    {
     "name": "stdout",
     "output_type": "stream",
     "text": [
      "Pomes {'Cantidad': 5, 'Precio': 0.42}\n",
      "Peres {'Cantidad': 3, 'Precio': 0.66}\n",
      "Melocoton {'Cantidad': 3, 'Precio': 0.5}\n"
     ]
    }
   ],
   "source": [
    "for x, y in compra.items():\n",
    "    print(x, y)"
   ]
  },
  {
   "cell_type": "markdown",
   "id": "13e88a25-b31e-468d-9703-33d81ed3151f",
   "metadata": {},
   "source": [
    "La fruta más cara son las Peres"
   ]
  }
 ],
 "metadata": {
  "kernelspec": {
   "display_name": "Python 3",
   "language": "python",
   "name": "python3"
  },
  "language_info": {
   "codemirror_mode": {
    "name": "ipython",
    "version": 3
   },
   "file_extension": ".py",
   "mimetype": "text/x-python",
   "name": "python",
   "nbconvert_exporter": "python",
   "pygments_lexer": "ipython3",
   "version": "3.8.8"
  }
 },
 "nbformat": 4,
 "nbformat_minor": 5
}
